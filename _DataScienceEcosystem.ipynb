{
 "cells": [
  {
   "cell_type": "markdown",
   "id": "b3d0d44f",
   "metadata": {},
   "source": [
    "# Data Science Tools and Ecosystem"
   ]
  },
  {
   "cell_type": "markdown",
   "id": "74aa8833",
   "metadata": {},
   "source": [
    "In this notebook, the tools and ecosystem of data science will be summarized."
   ]
  },
  {
   "cell_type": "markdown",
   "id": "da034bff",
   "metadata": {},
   "source": [
    "**Objectives:**\n"
   ]
  },
  {
   "cell_type": "markdown",
   "id": "b7288e20",
   "metadata": {},
   "source": [
    "- List popular languages for Data Science.\n",
    "- Highlight commonly used data science libraries.\n",
    "- Introduce key data science tools and environments.\n"
   ]
  },
  {
   "cell_type": "markdown",
   "id": "bb5e68eb",
   "metadata": {},
   "source": [
    "Some of the popular languages that Data Scientists use are:\n"
   ]
  },
  {
   "cell_type": "markdown",
   "id": "23fac0cd",
   "metadata": {},
   "source": [
    "1. Python\n",
    "2. R\n",
    "3. Julia\n"
   ]
  },
  {
   "cell_type": "markdown",
   "id": "392851a8",
   "metadata": {},
   "source": [
    "Some of the commonly used libraries used by Data Scientists include:\n"
   ]
  },
  {
   "cell_type": "markdown",
   "id": "84d96858",
   "metadata": {},
   "source": [
    "1. Pandas\n",
    "2. NumPy\n",
    "3. Scikit-Learn\n"
   ]
  },
  {
   "cell_type": "markdown",
   "id": "f9f8aa0b",
   "metadata": {},
   "source": [
    "| Data Science Tools |\n",
    "| ------------------ |\n",
    "| Jupyter Notebook   |\n",
    "| RStudio            |\n",
    "| Visual Studio Code |\n"
   ]
  },
  {
   "cell_type": "markdown",
   "id": "3760ca6d",
   "metadata": {},
   "source": [
    "### Below are a few examples of evaluating arithmetic expressions in Python.\n"
   ]
  },
  {
   "cell_type": "code",
   "execution_count": 1,
   "id": "89a141d5",
   "metadata": {},
   "outputs": [
    {
     "data": {
      "text/plain": [
       "17"
      ]
     },
     "execution_count": 1,
     "metadata": {},
     "output_type": "execute_result"
    }
   ],
   "source": [
    "# This is a simple arithmetic expression to multiply and then add integers.\n",
    "(3*4)+5"
   ]
  },
  {
   "cell_type": "code",
   "execution_count": 2,
   "id": "3f047b35",
   "metadata": {},
   "outputs": [
    {
     "data": {
      "text/plain": [
       "3.3333333333333335"
      ]
     },
     "execution_count": 2,
     "metadata": {},
     "output_type": "execute_result"
    }
   ],
   "source": [
    "# This will convert 200 minutes to hours by dividing by 60.\n",
    "200 / 60"
   ]
  },
  {
   "cell_type": "markdown",
   "id": "e43f66b1",
   "metadata": {},
   "source": [
    "## Author\n",
    "Oussama El Ghzaoui"
   ]
  },
  {
   "cell_type": "code",
   "execution_count": null,
   "id": "8db39862",
   "metadata": {},
   "outputs": [],
   "source": []
  }
 ],
 "metadata": {
  "kernelspec": {
   "display_name": "Python 3 (ipykernel)",
   "language": "python",
   "name": "python3"
  },
  "language_info": {
   "codemirror_mode": {
    "name": "ipython",
    "version": 3
   },
   "file_extension": ".py",
   "mimetype": "text/x-python",
   "name": "python",
   "nbconvert_exporter": "python",
   "pygments_lexer": "ipython3",
   "version": "3.11.5"
  }
 },
 "nbformat": 4,
 "nbformat_minor": 5
}
